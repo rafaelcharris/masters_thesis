{
 "cells": [
  {
   "cell_type": "markdown",
   "metadata": {},
   "source": [
    "# Tesis_test_v2"
   ]
  },
  {
   "cell_type": "markdown",
   "metadata": {},
   "source": [
    "## models.py"
   ]
  },
  {
   "cell_type": "code",
   "execution_count": null,
   "metadata": {},
   "outputs": [],
   "source": [
    "from otree.api import (\n",
    "    models, widgets, BaseConstants, BaseSubsession, BaseGroup, BasePlayer,\n",
    "    Currency as c, currency_range\n",
    ")\n",
    "\n",
    "\n",
    "author = 'Your name here'\n",
    "\n",
    "doc = \"\"\"\n",
    "Your app description\n",
    "\"\"\"\n",
    "\n",
    "\n",
    "class Constants(BaseConstants):\n",
    "    name_in_url = 'my_trust_2'\n",
    "    players_per_group = 2\n",
    "    num_rounds = 1\n",
    "\n",
    "    endowment = c(10)\n",
    "    multiplication_factor = 3\n",
    "\n",
    "\n",
    "class Subsession(BaseSubsession):\n",
    "    pass\n",
    "\n",
    "\n",
    "class Group(BaseGroup):\n",
    "    sent_amount = models.CurrencyField(\n",
    "        choices=currency_range(0, Constants.endowment, c(1))\n",
    "    )\n",
    "    sent_back_amount = models.CurrencyField()\n",
    "\n",
    "    def set_payoff(self):\n",
    "        p1 = self.get_player_by_id(1)\n",
    "        p2 = self.get_player_by_id(2)\n",
    "        p1.payoff = Constants.endowment - self.sent_amount + self.sent_back_amount\n",
    "        p2.payoff = self.sent_amount * Constants.multiplication_factor - self.sent_back_amount\n",
    "    pass\n",
    "\n",
    "\n",
    "class Player(BasePlayer):\n",
    "    pass\n"
   ]
  },
  {
   "cell_type": "markdown",
   "metadata": {},
   "source": [
    "## pages.py"
   ]
  },
  {
   "cell_type": "code",
   "execution_count": null,
   "metadata": {},
   "outputs": [],
   "source": [
    "import random\n",
    "import time\n",
    "from otree.api import Currency as c, currency_range\n",
    "from ._builtin import Page, WaitPage\n",
    "from .models import Constants\n",
    "\n",
    "\n",
    "class Instrucciones(Page):\n",
    "\n",
    "    def is_displayed(self):\n",
    "        return self.round_number == 1\n",
    "\n",
    "    #http://otree.readthedocs.io/en/latest/timeouts.html\n",
    "    def before_next_page(self):\n",
    "        self.participant.vars['expiry'] = time.time() + Constants.time_limit\n",
    "\n",
    "\n",
    "class Sumas(Page):\n",
    "\n",
    "    form_model = 'player'\n",
    "    form_fields = ['sum_answer']\n",
    "\n",
    "\n",
    "    #http://otree.readthedocs.io/en/latest/timeouts.html\n",
    "    def get_timeout_seconds(self):\n",
    "        return self.participant.vars['expiry'] - time.time()\n",
    "\n",
    "    def is_displayed(self):\n",
    "        return self.participant.vars['expiry'] - time.time() > 0\n",
    "\n",
    "    def before_next_page(self):\n",
    "        self.player.correct_answers()\n",
    "\n",
    "\n",
    "class ResultsWaitPage(WaitPage):\n",
    "\n",
    "    def after_all_players_arrive(self):\n",
    "        pass\n",
    "\n",
    "\n",
    "class Results(Page):\n",
    "    pass\n",
    "\n",
    "\n",
    "page_sequence = [\n",
    "    Instrucciones,\n",
    "    Sumas,\n",
    "    Results,\n",
    "    WaitPage\n",
    "]\n"
   ]
  }
 ],
 "metadata": {
  "kernelspec": {
   "display_name": "Python 3",
   "language": "python",
   "name": "python3"
  },
  "language_info": {
   "codemirror_mode": {
    "name": "ipython",
    "version": 3
   },
   "file_extension": ".py",
   "mimetype": "text/x-python",
   "name": "python",
   "nbconvert_exporter": "python",
   "pygments_lexer": "ipython3",
   "version": "3.6.4"
  }
 },
 "nbformat": 4,
 "nbformat_minor": 2
}
